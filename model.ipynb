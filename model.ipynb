{
 "cells": [
  {
   "cell_type": "markdown",
   "metadata": {},
   "source": [
    "## Mean Imputation"
   ]
  },
  {
   "cell_type": "code",
   "execution_count": 14,
   "metadata": {},
   "outputs": [
    {
     "name": "stdout",
     "output_type": "stream",
     "text": [
      "Mean Imputation + Linear Regression CV MSE: 163656.38005856174\n",
      "Mean Imputation + Random Forest CV MSE: 42636.506010769604\n",
      "Mean Imputation + Ridge Regression CV MSE: 163656.3795616895\n",
      "Mean Imputation + Decision Tree CV MSE: 74809.82022592222\n",
      "Mean Imputation + KNN Regressor CV MSE: 122976.06456132785\n",
      "Mean Imputation + Gradient Boosting CV MSE: 42378.51678959475\n",
      "Mean Imputation + XGBoost CV MSE: 59283.92540622699\n"
     ]
    }
   ],
   "source": [
    "import pandas as pd\n",
    "from sklearn.model_selection import train_test_split, cross_val_score\n",
    "from sklearn.impute import SimpleImputer\n",
    "from sklearn.linear_model import LinearRegression, Ridge, Lasso\n",
    "from sklearn.tree import DecisionTreeRegressor\n",
    "from sklearn.ensemble import RandomForestRegressor, GradientBoostingRegressor\n",
    "from sklearn.neighbors import KNeighborsRegressor\n",
    "from xgboost import XGBRegressor\n",
    "\n",
    "# Tải dữ liệu từ file CSV\n",
    "data = pd.read_csv('energy-data-filtered.csv')\n",
    "\n",
    "# Chọn các cột quan trọng và kiểm tra missing values\n",
    "features = ['electricity_generation', 'renewables_electricity', 'fossil_electricity', 'electricity_demand']\n",
    "target = 'electricity_generation'\n",
    "\n",
    "X = data[features]\n",
    "y = X[target]\n",
    "X = X.drop(columns=[target])\n",
    "\n",
    "# Kiểm tra và xử lý missing values trong y\n",
    "y = y.dropna()\n",
    "X = X.iloc[y.index]  # Điều chỉnh X sao cho phù hợp với các chỉ số của y sau khi loại bỏ missing values\n",
    "\n",
    "# Chia dữ liệu thành train/test\n",
    "X_train, X_test, y_train, y_test = train_test_split(X, y, test_size=0.2, random_state=42)\n",
    "\n",
    "# Phương pháp 1: Mean Imputation\n",
    "mean_imputer = SimpleImputer(strategy='mean')\n",
    "X_train_imputed_mean = mean_imputer.fit_transform(X_train)\n",
    "X_test_imputed_mean = mean_imputer.transform(X_test)\n",
    "\n",
    "# Các mô hình học máy\n",
    "models = {\n",
    "    \"Linear Regression\": LinearRegression(),\n",
    "    \"Random Forest\": RandomForestRegressor(),\n",
    "    \"Ridge Regression\": Ridge(),\n",
    "    \"Decision Tree\": DecisionTreeRegressor(),\n",
    "    \"KNN Regressor\": KNeighborsRegressor(),\n",
    "    \"Gradient Boosting\": GradientBoostingRegressor(),\n",
    "    \"XGBoost\": XGBRegressor(),\n",
    "}\n",
    "\n",
    "# Cross-validation cho các mô hình với Mean Imputation\n",
    "for model_name, model in models.items():\n",
    "    cv_scores = cross_val_score(model, X_train_imputed_mean, y_train, cv=5, scoring='neg_mean_squared_error')\n",
    "    print(f'Mean Imputation + {model_name} CV MSE: {-cv_scores.mean()}')\n"
   ]
  },
  {
   "cell_type": "markdown",
   "metadata": {},
   "source": [
    "## Median Imputation"
   ]
  },
  {
   "cell_type": "code",
   "execution_count": 15,
   "metadata": {},
   "outputs": [
    {
     "name": "stdout",
     "output_type": "stream",
     "text": [
      "Median Imputation + Linear Regression CV MSE: 12102.698604457242\n",
      "Median Imputation + Random Forest CV MSE: 42095.8565382724\n",
      "Median Imputation + Ridge Regression CV MSE: 12102.698596524442\n",
      "Median Imputation + Decision Tree CV MSE: 81072.66251442223\n",
      "Median Imputation + KNN Regressor CV MSE: 118100.70553262283\n",
      "Median Imputation + Gradient Boosting CV MSE: 42957.83483561207\n",
      "Median Imputation + XGBoost CV MSE: 54363.81588022523\n"
     ]
    }
   ],
   "source": [
    "# Phương pháp 2: Median Imputation\n",
    "median_imputer = SimpleImputer(strategy='median')\n",
    "X_train_imputed_median = median_imputer.fit_transform(X_train)\n",
    "X_test_imputed_median = median_imputer.transform(X_test)\n",
    "\n",
    "# Cross-validation cho các mô hình với Median Imputation\n",
    "for model_name, model in models.items():\n",
    "    cv_scores = cross_val_score(model, X_train_imputed_median, y_train, cv=5, scoring='neg_mean_squared_error')\n",
    "    print(f'Median Imputation + {model_name} CV MSE: {-cv_scores.mean()}')\n"
   ]
  },
  {
   "cell_type": "markdown",
   "metadata": {},
   "source": [
    "## KNN Imputation"
   ]
  },
  {
   "cell_type": "code",
   "execution_count": 16,
   "metadata": {},
   "outputs": [
    {
     "name": "stdout",
     "output_type": "stream",
     "text": [
      "KNN Imputation + Linear Regression CV MSE: 9703.711418175182\n",
      "KNN Imputation + Random Forest CV MSE: 33756.55459255226\n",
      "KNN Imputation + Ridge Regression CV MSE: 9703.711331604747\n",
      "KNN Imputation + Decision Tree CV MSE: 52918.001057729634\n",
      "KNN Imputation + KNN Regressor CV MSE: 51590.79981363745\n",
      "KNN Imputation + Gradient Boosting CV MSE: 36150.63686945978\n",
      "KNN Imputation + XGBoost CV MSE: 58492.82583035702\n"
     ]
    }
   ],
   "source": [
    "from sklearn.impute import KNNImputer\n",
    "\n",
    "# Phương pháp 3: KNN Imputation\n",
    "knn_imputer = KNNImputer(n_neighbors=5)\n",
    "X_train_imputed_knn = knn_imputer.fit_transform(X_train)\n",
    "X_test_imputed_knn = knn_imputer.transform(X_test)\n",
    "\n",
    "# Cross-validation cho các mô hình với KNN Imputation\n",
    "for model_name, model in models.items():\n",
    "    cv_scores = cross_val_score(model, X_train_imputed_knn, y_train, cv=5, scoring='neg_mean_squared_error')\n",
    "    print(f'KNN Imputation + {model_name} CV MSE: {-cv_scores.mean()}')\n"
   ]
  },
  {
   "cell_type": "markdown",
   "metadata": {},
   "source": [
    "## Interpolation "
   ]
  },
  {
   "cell_type": "code",
   "execution_count": 17,
   "metadata": {},
   "outputs": [
    {
     "name": "stdout",
     "output_type": "stream",
     "text": [
      "Có NaN trong X_train sau interpolation, điền lại bằng mean imputation.\n",
      "Có NaN trong X_test sau interpolation, điền lại bằng mean imputation.\n",
      "Interpolation + Linear Regression CV MSE: 509822.3539393477\n",
      "Interpolation + Random Forest CV MSE: 60564.62586743284\n",
      "Interpolation + Ridge Regression CV MSE: 509822.3530053556\n",
      "Interpolation + Decision Tree CV MSE: 98718.27669972592\n",
      "Interpolation + KNN Regressor CV MSE: 1141059.7687162766\n",
      "Interpolation + Gradient Boosting CV MSE: 68638.96675235454\n",
      "Interpolation + XGBoost CV MSE: 82979.16800374315\n"
     ]
    }
   ],
   "source": [
    "# Phương pháp 4: Interpolation\n",
    "X_train_imputed_interp = X_train.interpolate(method='linear', axis=0)\n",
    "X_test_imputed_interp = X_test.interpolate(method='linear', axis=0)\n",
    "\n",
    "# Kiểm tra và xử lý NaN sau interpolation\n",
    "if X_train_imputed_interp.isna().sum().sum() > 0:\n",
    "    print(\"Có NaN trong X_train sau interpolation, điền lại bằng mean imputation.\")\n",
    "    X_train_imputed_interp = X_train_imputed_interp.fillna(X_train_imputed_interp.mean())\n",
    "\n",
    "if X_test_imputed_interp.isna().sum().sum() > 0:\n",
    "    print(\"Có NaN trong X_test sau interpolation, điền lại bằng mean imputation.\")\n",
    "    X_test_imputed_interp = X_test_imputed_interp.fillna(X_test_imputed_interp.mean())\n",
    "\n",
    "# Cross-validation cho các mô hình với Interpolation\n",
    "for model_name, model in models.items():\n",
    "    cv_scores = cross_val_score(model, X_train_imputed_interp, y_train, cv=5, scoring='neg_mean_squared_error')\n",
    "    print(f'Interpolation + {model_name} CV MSE: {-cv_scores.mean()}')\n"
   ]
  },
  {
   "cell_type": "markdown",
   "metadata": {},
   "source": [
    "## Drop Missing Values"
   ]
  },
  {
   "cell_type": "code",
   "execution_count": 18,
   "metadata": {},
   "outputs": [
    {
     "name": "stdout",
     "output_type": "stream",
     "text": [
      "Drop Missing Values + Linear Regression CV MSE: 207.21992945689598\n",
      "Drop Missing Values + Random Forest CV MSE: 37509.969294779185\n",
      "Drop Missing Values + Ridge Regression CV MSE: 207.21995774667826\n",
      "Drop Missing Values + Decision Tree CV MSE: 84819.71152520916\n",
      "Drop Missing Values + KNN Regressor CV MSE: 107992.43810111037\n",
      "Drop Missing Values + Gradient Boosting CV MSE: 46402.59221620422\n",
      "Drop Missing Values + XGBoost CV MSE: 97340.52664382555\n"
     ]
    }
   ],
   "source": [
    "# Phương pháp 5: Drop Missing Values\n",
    "X_train_dropped = X_train.dropna()\n",
    "y_train_dropped = y_train.loc[X_train_dropped.index]  # Đảm bảo rằng y_train có các chỉ số tương ứng\n",
    "X_test_dropped = X_test.dropna()\n",
    "y_test_dropped = y_test.loc[X_test_dropped.index]  # Đảm bảo rằng y_test có các chỉ số tương ứng\n",
    "\n",
    "# Cross-validation cho các mô hình với Drop Missing Values\n",
    "for model_name, model in models.items():\n",
    "    cv_scores = cross_val_score(model, X_train_dropped, y_train_dropped, cv=5, scoring='neg_mean_squared_error')\n",
    "    print(f'Drop Missing Values + {model_name} CV MSE: {-cv_scores.mean()}')\n"
   ]
  },
  {
   "cell_type": "code",
   "execution_count": 19,
   "metadata": {},
   "outputs": [
    {
     "name": "stdout",
     "output_type": "stream",
     "text": [
      "Best method: Drop Missing Values with model Linear Regression with MSE = 207.21992945689598\n"
     ]
    }
   ],
   "source": [
    "models = {\n",
    "    \"Linear Regression\": LinearRegression(),\n",
    "    \"Random Forest\": RandomForestRegressor(),\n",
    "    \"Ridge Regression\": Ridge(),\n",
    "    \"Decision Tree\": DecisionTreeRegressor(),\n",
    "    \"KNN Regressor\": KNeighborsRegressor(),\n",
    "    \"Gradient Boosting\": GradientBoostingRegressor(),\n",
    "    \"XGBoost\": XGBRegressor(),\n",
    "}\n",
    "\n",
    "# Các phương pháp Imputation đã có sẵn (các biến đã được tính toán trước)\n",
    "imputation_methods = {\n",
    "    \"Mean Imputation\": X_train_imputed_mean,\n",
    "    \"Median Imputation\": X_train_imputed_median,\n",
    "    \"KNN Imputation\": X_train_imputed_knn,\n",
    "    \"Interpolation\": X_train_imputed_interp,\n",
    "    \"Drop Missing Values\": X_train_dropped\n",
    "}\n",
    "\n",
    "# Tạo dictionary để lưu kết quả MSE của mỗi phương pháp và mô hình\n",
    "results = {}\n",
    "\n",
    "# Cross-validation cho các mô hình với các phương pháp khác nhau\n",
    "for imputer_name, X_train_imputed in imputation_methods.items():\n",
    "    model_scores = []\n",
    "    for model_name, model in models.items():\n",
    "        if imputer_name == \"Drop Missing Values\":  # Dữ liệu đã được loại bỏ missing values\n",
    "            X_train_imputed_model = X_train_dropped\n",
    "            y_train_imputed_model = y_train_dropped\n",
    "        else:\n",
    "            X_train_imputed_model = X_train_imputed\n",
    "            y_train_imputed_model = y_train\n",
    "        \n",
    "        cv_scores = cross_val_score(model, X_train_imputed_model, y_train_imputed_model, cv=5, scoring='neg_mean_squared_error')\n",
    "        model_scores.append((model_name, -cv_scores.mean()))  # Lưu MSE cho mô hình\n",
    "\n",
    "    results[imputer_name] = model_scores\n",
    "\n",
    "# In ra phương pháp và mô hình tốt nhất\n",
    "best_imputation = None\n",
    "best_model_name = None\n",
    "best_mse = float('inf')\n",
    "\n",
    "for imputer_name, model_scores in results.items():\n",
    "    for model_name, mse in model_scores:\n",
    "        if mse < best_mse:\n",
    "            best_imputation = imputer_name\n",
    "            best_model_name = model_name\n",
    "            best_mse = mse\n",
    "\n",
    "print(f\"Best method: {best_imputation} with model {best_model_name} with MSE = {best_mse}\")\n"
   ]
  }
 ],
 "metadata": {
  "kernelspec": {
   "display_name": "AI",
   "language": "python",
   "name": "python3"
  },
  "language_info": {
   "codemirror_mode": {
    "name": "ipython",
    "version": 3
   },
   "file_extension": ".py",
   "mimetype": "text/x-python",
   "name": "python",
   "nbconvert_exporter": "python",
   "pygments_lexer": "ipython3",
   "version": "3.10.8"
  }
 },
 "nbformat": 4,
 "nbformat_minor": 2
}
